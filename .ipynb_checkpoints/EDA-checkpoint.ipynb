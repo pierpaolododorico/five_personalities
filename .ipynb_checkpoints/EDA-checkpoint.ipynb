{
 "cells": [
  {
   "cell_type": "code",
   "execution_count": 1,
   "metadata": {
    "collapsed": true,
    "execution": {
     "iopub.execute_input": "2021-11-25T13:26:15.016336Z",
     "iopub.status.busy": "2021-11-25T13:26:15.016336Z",
     "iopub.status.idle": "2021-11-25T13:26:21.979683Z",
     "shell.execute_reply": "2021-11-25T13:26:21.979683Z",
     "shell.execute_reply.started": "2021-11-25T13:26:15.016336Z"
    },
    "jupyter": {
     "outputs_hidden": true
    },
    "tags": []
   },
   "outputs": [
    {
     "name": "stderr",
     "output_type": "stream",
     "text": [
      "C:\\Users\\Max\\anaconda3\\lib\\site-packages\\numpy\\_distributor_init.py:32: UserWarning: loaded more than 1 DLL from .libs:\n",
      "C:\\Users\\Max\\anaconda3\\lib\\site-packages\\numpy\\.libs\\libopenblas.PYQHXLVVQ7VESDPUVUADXEVJOBGHJPAY.gfortran-win_amd64.dll\n",
      "C:\\Users\\Max\\anaconda3\\lib\\site-packages\\numpy\\.libs\\libopenblas.WCDJNK7YVMPZQ2ME2ZZHJJRJ3JIKNDB7.gfortran-win_amd64.dll\n",
      "  stacklevel=1)\n"
     ]
    }
   ],
   "source": [
    "import numpy as np\r\n",
    "import pandas as pd\r\n",
    "import tensorflow as tf\r\n",
    "import matplotlib.pyplot as plt\r\n",
    "import seaborn as sns"
   ]
  },
  {
   "cell_type": "code",
   "execution_count": 2,
   "metadata": {
    "execution": {
     "iopub.execute_input": "2021-11-25T13:26:21.979683Z",
     "iopub.status.busy": "2021-11-25T13:26:21.979683Z",
     "iopub.status.idle": "2021-11-25T13:26:22.042761Z",
     "shell.execute_reply": "2021-11-25T13:26:22.041761Z",
     "shell.execute_reply.started": "2021-11-25T13:26:21.979683Z"
    }
   },
   "outputs": [
    {
     "data": {
      "text/html": [
       "<div>\n",
       "<style scoped>\n",
       "    .dataframe tbody tr th:only-of-type {\n",
       "        vertical-align: middle;\n",
       "    }\n",
       "\n",
       "    .dataframe tbody tr th {\n",
       "        vertical-align: top;\n",
       "    }\n",
       "\n",
       "    .dataframe thead th {\n",
       "        text-align: right;\n",
       "    }\n",
       "</style>\n",
       "<table border=\"1\" class=\"dataframe\">\n",
       "  <thead>\n",
       "    <tr style=\"text-align: right;\">\n",
       "      <th></th>\n",
       "      <th>EX1G</th>\n",
       "      <th>EX2G</th>\n",
       "      <th>A1G</th>\n",
       "      <th>A2G</th>\n",
       "      <th>C1G</th>\n",
       "      <th>C2G</th>\n",
       "      <th>ES1G</th>\n",
       "      <th>ES2G</th>\n",
       "      <th>O1G</th>\n",
       "      <th>O2G</th>\n",
       "      <th>CONDITION</th>\n",
       "    </tr>\n",
       "  </thead>\n",
       "  <tbody>\n",
       "    <tr>\n",
       "      <th>0</th>\n",
       "      <td>4</td>\n",
       "      <td>4</td>\n",
       "      <td>4</td>\n",
       "      <td>4</td>\n",
       "      <td>4</td>\n",
       "      <td>5</td>\n",
       "      <td>4</td>\n",
       "      <td>4</td>\n",
       "      <td>4</td>\n",
       "      <td>4</td>\n",
       "      <td>H</td>\n",
       "    </tr>\n",
       "    <tr>\n",
       "      <th>1</th>\n",
       "      <td>4</td>\n",
       "      <td>2</td>\n",
       "      <td>2</td>\n",
       "      <td>4</td>\n",
       "      <td>4</td>\n",
       "      <td>5</td>\n",
       "      <td>3</td>\n",
       "      <td>4</td>\n",
       "      <td>4</td>\n",
       "      <td>4</td>\n",
       "      <td>H</td>\n",
       "    </tr>\n",
       "    <tr>\n",
       "      <th>2</th>\n",
       "      <td>4</td>\n",
       "      <td>2</td>\n",
       "      <td>2</td>\n",
       "      <td>4</td>\n",
       "      <td>4</td>\n",
       "      <td>4</td>\n",
       "      <td>3</td>\n",
       "      <td>4</td>\n",
       "      <td>4</td>\n",
       "      <td>4</td>\n",
       "      <td>H</td>\n",
       "    </tr>\n",
       "    <tr>\n",
       "      <th>3</th>\n",
       "      <td>4</td>\n",
       "      <td>2</td>\n",
       "      <td>2</td>\n",
       "      <td>4</td>\n",
       "      <td>2</td>\n",
       "      <td>4</td>\n",
       "      <td>5</td>\n",
       "      <td>5</td>\n",
       "      <td>4</td>\n",
       "      <td>2</td>\n",
       "      <td>H</td>\n",
       "    </tr>\n",
       "    <tr>\n",
       "      <th>4</th>\n",
       "      <td>3</td>\n",
       "      <td>2</td>\n",
       "      <td>3</td>\n",
       "      <td>4</td>\n",
       "      <td>5</td>\n",
       "      <td>5</td>\n",
       "      <td>4</td>\n",
       "      <td>4</td>\n",
       "      <td>5</td>\n",
       "      <td>5</td>\n",
       "      <td>H</td>\n",
       "    </tr>\n",
       "  </tbody>\n",
       "</table>\n",
       "</div>"
      ],
      "text/plain": [
       "   EX1G  EX2G  A1G  A2G  C1G  C2G  ES1G  ES2G  O1G  O2G CONDITION\n",
       "0     4     4    4    4    4    5     4     4    4    4         H\n",
       "1     4     2    2    4    4    5     3     4    4    4         H\n",
       "2     4     2    2    4    4    4     3     4    4    4         H\n",
       "3     4     2    2    4    2    4     5     5    4    2         H\n",
       "4     3     2    3    4    5    5     4     4    5    5         H"
      ]
     },
     "execution_count": 2,
     "metadata": {},
     "output_type": "execute_result"
    }
   ],
   "source": [
    "data = pd.read_csv('BF_df_CTU.csv')\r\n",
    "data.head()"
   ]
  },
  {
   "cell_type": "code",
   "execution_count": 3,
   "metadata": {
    "execution": {
     "iopub.execute_input": "2021-11-25T13:26:23.281200Z",
     "iopub.status.busy": "2021-11-25T13:26:23.280198Z",
     "iopub.status.idle": "2021-11-25T13:26:23.293132Z",
     "shell.execute_reply": "2021-11-25T13:26:23.292169Z",
     "shell.execute_reply.started": "2021-11-25T13:26:23.281200Z"
    }
   },
   "outputs": [],
   "source": [
    "n,p = data.shape\r\n",
    "x_real = data.iloc[:n//2,:-1]\r\n",
    "x_fake = data.iloc[n//2:,:-1]"
   ]
  },
  {
   "cell_type": "code",
   "execution_count": 4,
   "metadata": {
    "execution": {
     "iopub.execute_input": "2021-11-25T13:26:24.609312Z",
     "iopub.status.busy": "2021-11-25T13:26:24.609312Z",
     "iopub.status.idle": "2021-11-25T13:26:24.649683Z",
     "shell.execute_reply": "2021-11-25T13:26:24.648678Z",
     "shell.execute_reply.started": "2021-11-25T13:26:24.609312Z"
    }
   },
   "outputs": [],
   "source": [
    "index = np.random.choice([0,1,2], size=n//2, p=[0.8,0.1,0.1])\r\n",
    "\r\n",
    "x_real_train = x_real[index==0]\r\n",
    "x_real_val = x_real[index==1]\r\n",
    "x_real_test = x_real[index==2]\r\n",
    "\r\n",
    "x_fake_train = x_fake[index==0]\r\n",
    "x_fake_val = x_fake[index==1]\r\n",
    "x_fake_test = x_fake[index==2]"
   ]
  },
  {
   "cell_type": "markdown",
   "metadata": {},
   "source": [
    "# Exploratory analysis\n",
    "In which way people are faking?\n",
    "Let's plot some example of the true vs the fake responses of the same subject"
   ]
  },
  {
   "cell_type": "code",
   "execution_count": 14,
   "metadata": {
    "execution": {
     "iopub.execute_input": "2021-11-25T13:35:20.538403Z",
     "iopub.status.busy": "2021-11-25T13:35:20.537405Z",
     "iopub.status.idle": "2021-11-25T13:35:20.557868Z",
     "shell.execute_reply": "2021-11-25T13:35:20.556869Z",
     "shell.execute_reply.started": "2021-11-25T13:35:20.537405Z"
    },
    "tags": []
   },
   "outputs": [
    {
     "ename": "SyntaxError",
     "evalue": "invalid syntax (<ipython-input-14-1455997f6f4b>, line 20)",
     "output_type": "error",
     "traceback": [
      "\u001b[1;36m  File \u001b[1;32m\"<ipython-input-14-1455997f6f4b>\"\u001b[1;36m, line \u001b[1;32m20\u001b[0m\n\u001b[1;33m    ax[row, c+1ol].set_title(str(i) + \"-ith subject\")\u001b[0m\n\u001b[1;37m                ^\u001b[0m\n\u001b[1;31mSyntaxError\u001b[0m\u001b[1;31m:\u001b[0m invalid syntax\n"
     ]
    }
   ],
   "source": [
    "fig, ax = plt.subplots(3,3, figsize=(20, 13))\r\n",
    "\r\n",
    "for i in range(9):\r\n",
    "\r\n",
    "    row = int(i/3)\r\n",
    "    col = i % 3\r\n",
    "\r\n",
    "    labels = list(data.columns[:-1])\r\n",
    "\r\n",
    "    honest = list(data.iloc[i,:-1])\r\n",
    "    lier = list(data.iloc[n//2 + i,:-1])\r\n",
    "\r\n",
    "    x = np.arange(len(labels))  \r\n",
    "    width = 0.35  \r\n",
    "\r\n",
    "    rects1 = ax[row, col].bar(x - width/2, honest, width, label='Honest')\r\n",
    "    rects2 = ax[row, col].bar(x + width/2, lier, width, label='Dishonest')\r\n",
    "\r\n",
    "    # Add some text for labels, title and custom x-axis tick labels, etc.\r\n",
    "    ax[row, c+1ol].set_title(str(i) + \"-ith subject\")\r\n",
    "    ax[row, col].set_ylabel('Responses')\r\n",
    "    ax[row, col].set_xlabel('Questions')\r\n",
    "    ax[row, col].set_xticks(x)\r\n",
    "    ax[row, col].set_xticklabels(labels, rotation=45)\r\n",
    "    ax[row, col].legend(bbox_to_anchor=(0,0), loc=\"lower left\")\r\n",
    "    ax[row, col].set_ylim([0,5.5])\r\n",
    "\r\n",
    "    def autolabel(rects):\r\n",
    "        \"\"\"Attach a text label above each bar in *rects*, displaying its height.\"\"\"\r\n",
    "        for rect in rects:\r\n",
    "            height = rect.get_height()\r\n",
    "            ax[row, col].annotate('{}'.format(height),\r\n",
    "                        xy=(rect.get_x() + rect.get_width() / 2, height),\r\n",
    "                        xytext=(0, 3),  # 3 points vertical offset\r\n",
    "                        textcoords=\"offset points\",\r\n",
    "                        ha='center', va='bottom')\r\n",
    "\r\n",
    "\r\n",
    "    autolabel(rects1)\r\n",
    "    autolabel(rects2)\r\n",
    "\r\n",
    "fig.tight_layout()\r\n",
    "\r\n",
    "plt.show()"
   ]
  },
  {
   "cell_type": "markdown",
   "metadata": {},
   "source": [
    "### Now let's see the mean of the differences"
   ]
  },
  {
   "cell_type": "code",
   "execution_count": 11,
   "metadata": {
    "execution": {
     "iopub.execute_input": "2021-11-25T13:33:12.636296Z",
     "iopub.status.busy": "2021-11-25T13:33:12.635301Z",
     "iopub.status.idle": "2021-11-25T13:33:12.650162Z",
     "shell.execute_reply": "2021-11-25T13:33:12.649163Z",
     "shell.execute_reply.started": "2021-11-25T13:33:12.636296Z"
    },
    "tags": []
   },
   "outputs": [
    {
     "data": {
      "text/plain": [
       "[4.46606334841629,\n",
       " 2.2036199095022626,\n",
       " 3.9049773755656108,\n",
       " 3.6923076923076925,\n",
       " 4.407239819004525,\n",
       " 4.583710407239819,\n",
       " 4.34841628959276,\n",
       " 4.230769230769231,\n",
       " 3.4027149321266967]"
      ]
     },
     "execution_count": 11,
     "metadata": {},
     "output_type": "execute_result"
    }
   ],
   "source": [
    "lier"
   ]
  },
  {
   "cell_type": "code",
   "execution_count": 13,
   "metadata": {
    "execution": {
     "iopub.execute_input": "2021-11-25T13:34:47.176893Z",
     "iopub.status.busy": "2021-11-25T13:34:47.176893Z",
     "iopub.status.idle": "2021-11-25T13:34:47.480210Z",
     "shell.execute_reply": "2021-11-25T13:34:47.479245Z",
     "shell.execute_reply.started": "2021-11-25T13:34:47.176893Z"
    },
    "tags": []
   },
   "outputs": [
    {
     "data": {
      "image/png": "[encoded data removed]",
      "text/plain": [
       "<Figure size 720x432 with 1 Axes>"
      ]
     },
     "metadata": {
      "needs_background": "light"
     },
     "output_type": "display_data"
    }
   ],
   "source": [
    "fig, ax = plt.subplots(1,1, figsize=(10, 6))\n",
    "\n",
    "labels = list(data.columns[:-1])\n",
    "\n",
    "honest = list(x_real.mean(0))\n",
    "lier = list(x_fake.mean(0))\n",
    "\n",
    "x = np.arange(len(labels))  \n",
    "width = 0.35  \n",
    "\n",
    "rects1 = ax.bar(x - width/2, honest, width, label='Honest')\n",
    "rects2 = ax.bar(x + width/2, lier, width, label='Dishonest')\n",
    "\n",
    "# Add some text for labels, title and custom x-axis tick labels, etc.\n",
    "ax.set_title(str(i) + \"-ith subject\")\n",
    "ax.set_ylabel('Responses')\n",
    "ax.set_xlabel('Questions')\n",
    "ax.set_xticks(x)\n",
    "ax.set_xticklabels(labels, rotation=45)\n",
    "ax.legend(bbox_to_anchor=(0,0), loc=\"lower left\")\n",
    "ax.set_ylim([0,5.5])\n",
    "\n",
    "def autolabel(rects):\n",
    "    \"\"\"Attach a text label above each bar in *rects*, displaying its height.\"\"\"\n",
    "    for rect in rects:\n",
    "        height = rect.get_height()\n",
    "        ax.annotate('{}'.format(height),\n",
    "                    xy=(rect.get_x() + rect.get_width() / 2, height),\n",
    "                    xytext=(0, 3),  # 3 points vertical offset\n",
    "                    textcoords=\"offset points\",\n",
    "                    ha='center', va='bottom')\n",
    "\n",
    "\n",
    "autolabel(rects1)\n",
    "autolabel(rects2)\n",
    "\n",
    "fig.tight_layout()\n",
    "\n",
    "plt.show()"
   ]
  },
  {
   "cell_type": "markdown",
   "metadata": {},
   "source": [
    "# Naive approach\n",
    "\n",
    "All the proposed method should outperform the trivial strategy of subtracting to each subject faked response the average of the difference, across all subjects, among faked and honest response."
   ]
  },
  {
   "cell_type": "code",
   "execution_count": 54,
   "metadata": {},
   "outputs": [
    {
     "data": {
      "text/plain": [
       "1.5545508843537414"
      ]
     },
     "execution_count": 54,
     "metadata": {},
     "output_type": "execute_result"
    }
   ],
   "source": [
    "mean_train = (x_fake_train.to_numpy() - x_real_train.to_numpy()).mean(axis=0)\r\n",
    "test_mse = (((x_fake_test.subtract(mean_train)).to_numpy() - x_real_test.to_numpy())**2).mean()\r\n",
    "test_mse"
   ]
  },
  {
   "cell_type": "markdown",
   "metadata": {},
   "source": [
    "# Denoising autoencoder"
   ]
  },
  {
   "cell_type": "code",
   "execution_count": 67,
   "metadata": {},
   "outputs": [],
   "source": [
    "dim_1 = 10\r\n",
    "dim_2 = 5\r\n",
    "\r\n",
    "input_vector = tf.keras.layers.Input(shape=(10,))\r\n",
    "\r\n",
    "# Define the encoder\r\n",
    "hidden_1 = tf.keras.layers.Dense(dim_1, activation='sigmoid')(input_vector)\r\n",
    "encoded = tf.keras.layers.Dense(dim_2, activation='sigmoid')(hidden_1)\r\n",
    "\r\n",
    "# ...and the decoder...\r\n",
    "hidden_2 = tf.keras.layers.Dense(dim_1, activation='sigmoid')(encoded)\r\n",
    "decoded = tf.keras.layers.Dense(10, activation='linear')(hidden_2)\r\n",
    "\r\n",
    "# and finally the autoencoder\r\n",
    "autoencoder = tf.keras.models.Model(inputs=input_vector, outputs=decoded)\r\n",
    "\r\n",
    "autoencoder.compile(optimizer='sgd', loss='mse')"
   ]
  },
  {
   "cell_type": "code",
   "execution_count": 68,
   "metadata": {},
   "outputs": [
    {
     "name": "stdout",
     "output_type": "stream",
     "text": [
      "Model: \"model_5\"\n",
      "_________________________________________________________________\n",
      "Layer (type)                 Output Shape              Param #   \n",
      "=================================================================\n",
      "input_6 (InputLayer)         [(None, 10)]              0         \n",
      "_________________________________________________________________\n",
      "dense_20 (Dense)             (None, 10)                110       \n",
      "_________________________________________________________________\n",
      "dense_21 (Dense)             (None, 5)                 55        \n",
      "_________________________________________________________________\n",
      "dense_22 (Dense)             (None, 10)                60        \n",
      "_________________________________________________________________\n",
      "dense_23 (Dense)             (None, 10)                110       \n",
      "=================================================================\n",
      "Total params: 335\n",
      "Trainable params: 335\n",
      "Non-trainable params: 0\n",
      "_________________________________________________________________\n"
     ]
    }
   ],
   "source": [
    "autoencoder.summary()"
   ]
  },
  {
   "cell_type": "code",
   "execution_count": 69,
   "metadata": {},
   "outputs": [],
   "source": [
    "history = autoencoder.fit(x_fake_train, x_real_train, epochs=200, shuffle=True, validation_data=(x_fake_val, x_real_val),  verbose = False)"
   ]
  },
  {
   "cell_type": "code",
   "execution_count": 70,
   "metadata": {},
   "outputs": [],
   "source": [
    "def plot_loss(history):\r\n",
    "  plt.figure(figsize=(10,6))\r\n",
    "  plt.plot(history.epoch,history.history['loss'])\r\n",
    "  plt.plot(history.epoch,history.history['val_loss'])\r\n",
    "  plt.legend([\"Loss\", \"Val_loss\"])\r\n",
    "  plt.title('loss')"
   ]
  },
  {
   "cell_type": "code",
   "execution_count": 71,
   "metadata": {},
   "outputs": [
    {
     "name": "stdout",
     "output_type": "stream",
     "text": [
      "1/1 - 0s - loss: 1.1470\n",
      "test mse: 1.14705\n"
     ]
    },
    {
     "data": {
      "image/png": "[encoded data removed]",
      "text/plain": [
       "<Figure size 720x432 with 1 Axes>"
      ]
     },
     "metadata": {
      "needs_background": "light"
     },
     "output_type": "display_data"
    }
   ],
   "source": [
    "plot_loss(history)\r\n",
    "\r\n",
    "scores = autoencoder.evaluate(x_fake_test, x_real_test, verbose=2)\r\n",
    "print(\"test mse: %.5f\" % (scores))"
   ]
  },
  {
   "cell_type": "code",
   "execution_count": 72,
   "metadata": {},
   "outputs": [
    {
     "data": {
      "text/plain": [
       "1.1470472351085048"
      ]
     },
     "execution_count": 72,
     "metadata": {},
     "output_type": "execute_result"
    }
   ],
   "source": [
    "test_mse = ((autoencoder.predict(x_fake_test) - x_real_test.to_numpy())**2).mean()\r\n",
    "test_mse"
   ]
  }
 ],
 "metadata": {
  "interpreter": {
   "hash": "9e49e9e5b94ffbcf92b38e6bbae369d81093e2039295ffe956729ef7e2f8d3e1"
  },
  "kernelspec": {
   "display_name": "Python 3",
   "language": "python",
   "name": "python3"
  },
  "language_info": {
   "codemirror_mode": {
    "name": "ipython",
    "version": 3
   },
   "file_extension": ".py",
   "mimetype": "text/x-python",
   "name": "python",
   "nbconvert_exporter": "python",
   "pygments_lexer": "ipython3",
   "version": "3.7.9"
  }
 },
 "nbformat": 4,
 "nbformat_minor": 4
}
