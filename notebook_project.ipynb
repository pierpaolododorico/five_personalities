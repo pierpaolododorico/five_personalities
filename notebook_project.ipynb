{
 "cells": [
  {
   "cell_type": "markdown",
   "metadata": {},
   "source": [
    "# 5 dimensions of human personality\n",
    "\n",
    "### Purpose of the project\n",
    "We want to investigate the way people can fake their responses into a questionnaire for obtaining a job or a specific role. In addition we want to model data making possible to detect liers and to remove the bias caused by the aim to appear  more suitable for the role.\n",
    "\n",
    "### Data collection\n",
    "In this experiment participants were required to respond to the same questionnaire twice. First, they were asked to respond honestly to all of its questions. Then, they were instructed them to fake their responses for a **role in a Humanitarian Organization**. We have the same subject responding in an honest condition and in one of instructed faking. Participants were asked to respond to the same set of 10 items twice, first honestly and then altering their answers to obtain a personal gain in the context described before. \n",
    "\n",
    "### Expectations\n",
    "We expect liars will give higher responses than truth-tellers because they have to appear in a better light and more suitable for the role."
   ]
  },
  {
   "cell_type": "code",
   "execution_count": 1,
   "metadata": {
    "collapsed": true,
    "execution": {
     "iopub.execute_input": "2021-11-25T13:26:15.016336Z",
     "iopub.status.busy": "2021-11-25T13:26:15.016336Z",
     "iopub.status.idle": "2021-11-25T13:26:21.979683Z",
     "shell.execute_reply": "2021-11-25T13:26:21.979683Z",
     "shell.execute_reply.started": "2021-11-25T13:26:15.016336Z"
    },
    "jupyter": {
     "outputs_hidden": true
    },
    "tags": []
   },
   "outputs": [
    {
     "name": "stdout",
     "output_type": "stream",
     "text": [
      "Init Plugin\n",
      "Init Graph Optimizer\n",
      "Init Kernel\n"
     ]
    }
   ],
   "source": [
    "# import libraries\n",
    "import numpy as np\n",
    "import pandas as pd\n",
    "import tensorflow as tf\n",
    "import matplotlib.pyplot as plt\n",
    "import seaborn as sns"
   ]
  },
  {
   "cell_type": "code",
   "execution_count": 2,
   "metadata": {
    "execution": {
     "iopub.execute_input": "2021-11-25T13:26:21.979683Z",
     "iopub.status.busy": "2021-11-25T13:26:21.979683Z",
     "iopub.status.idle": "2021-11-25T13:26:22.042761Z",
     "shell.execute_reply": "2021-11-25T13:26:22.041761Z",
     "shell.execute_reply.started": "2021-11-25T13:26:21.979683Z"
    }
   },
   "outputs": [
    {
     "name": "stdout",
     "output_type": "stream",
     "text": [
      "We have 221 respondents that took questionnaire twice, in H (Honest) and D (Dishonest) condition\n"
     ]
    },
    {
     "data": {
      "text/html": [
       "<div>\n",
       "<style scoped>\n",
       "    .dataframe tbody tr th:only-of-type {\n",
       "        vertical-align: middle;\n",
       "    }\n",
       "\n",
       "    .dataframe tbody tr th {\n",
       "        vertical-align: top;\n",
       "    }\n",
       "\n",
       "    .dataframe thead th {\n",
       "        text-align: right;\n",
       "    }\n",
       "</style>\n",
       "<table border=\"1\" class=\"dataframe\">\n",
       "  <thead>\n",
       "    <tr style=\"text-align: right;\">\n",
       "      <th></th>\n",
       "      <th>EX1G</th>\n",
       "      <th>EX2G</th>\n",
       "      <th>A1G</th>\n",
       "      <th>A2G</th>\n",
       "      <th>C1G</th>\n",
       "      <th>C2G</th>\n",
       "      <th>ES1G</th>\n",
       "      <th>ES2G</th>\n",
       "      <th>O1G</th>\n",
       "      <th>O2G</th>\n",
       "      <th>CONDITION</th>\n",
       "    </tr>\n",
       "  </thead>\n",
       "  <tbody>\n",
       "    <tr>\n",
       "      <th>0</th>\n",
       "      <td>4</td>\n",
       "      <td>4</td>\n",
       "      <td>4</td>\n",
       "      <td>4</td>\n",
       "      <td>4</td>\n",
       "      <td>5</td>\n",
       "      <td>4</td>\n",
       "      <td>4</td>\n",
       "      <td>4</td>\n",
       "      <td>4</td>\n",
       "      <td>H</td>\n",
       "    </tr>\n",
       "    <tr>\n",
       "      <th>1</th>\n",
       "      <td>4</td>\n",
       "      <td>2</td>\n",
       "      <td>2</td>\n",
       "      <td>4</td>\n",
       "      <td>4</td>\n",
       "      <td>5</td>\n",
       "      <td>3</td>\n",
       "      <td>4</td>\n",
       "      <td>4</td>\n",
       "      <td>4</td>\n",
       "      <td>H</td>\n",
       "    </tr>\n",
       "    <tr>\n",
       "      <th>2</th>\n",
       "      <td>4</td>\n",
       "      <td>2</td>\n",
       "      <td>2</td>\n",
       "      <td>4</td>\n",
       "      <td>4</td>\n",
       "      <td>4</td>\n",
       "      <td>3</td>\n",
       "      <td>4</td>\n",
       "      <td>4</td>\n",
       "      <td>4</td>\n",
       "      <td>H</td>\n",
       "    </tr>\n",
       "    <tr>\n",
       "      <th>3</th>\n",
       "      <td>4</td>\n",
       "      <td>2</td>\n",
       "      <td>2</td>\n",
       "      <td>4</td>\n",
       "      <td>2</td>\n",
       "      <td>4</td>\n",
       "      <td>5</td>\n",
       "      <td>5</td>\n",
       "      <td>4</td>\n",
       "      <td>2</td>\n",
       "      <td>H</td>\n",
       "    </tr>\n",
       "    <tr>\n",
       "      <th>4</th>\n",
       "      <td>3</td>\n",
       "      <td>2</td>\n",
       "      <td>3</td>\n",
       "      <td>4</td>\n",
       "      <td>5</td>\n",
       "      <td>5</td>\n",
       "      <td>4</td>\n",
       "      <td>4</td>\n",
       "      <td>5</td>\n",
       "      <td>5</td>\n",
       "      <td>H</td>\n",
       "    </tr>\n",
       "  </tbody>\n",
       "</table>\n",
       "</div>"
      ],
      "text/plain": [
       "   EX1G  EX2G  A1G  A2G  C1G  C2G  ES1G  ES2G  O1G  O2G CONDITION\n",
       "0     4     4    4    4    4    5     4     4    4    4         H\n",
       "1     4     2    2    4    4    5     3     4    4    4         H\n",
       "2     4     2    2    4    4    4     3     4    4    4         H\n",
       "3     4     2    2    4    2    4     5     5    4    2         H\n",
       "4     3     2    3    4    5    5     4     4    5    5         H"
      ]
     },
     "execution_count": 2,
     "metadata": {},
     "output_type": "execute_result"
    }
   ],
   "source": [
    "# import and show dataframe\n",
    "data = pd.read_csv('BF_df_CTU.csv')\n",
    "n,p = data.shape # extract dimensions\n",
    "\n",
    "print(f\"We have {n//2} respondents that took questionnaire twice, in H (Honest) and D (Dishonest) condition\")\n",
    "data.head()"
   ]
  },
  {
   "cell_type": "code",
   "execution_count": 3,
   "metadata": {
    "execution": {
     "iopub.execute_input": "2021-11-25T13:26:23.281200Z",
     "iopub.status.busy": "2021-11-25T13:26:23.280198Z",
     "iopub.status.idle": "2021-11-25T13:26:23.293132Z",
     "shell.execute_reply": "2021-11-25T13:26:23.292169Z",
     "shell.execute_reply.started": "2021-11-25T13:26:23.281200Z"
    }
   },
   "outputs": [],
   "source": [
    "# divide data in H and D\n",
    "x_real = data.iloc[:n//2,:-1]\n",
    "x_fake = data.iloc[n//2:,:-1]"
   ]
  },
  {
   "cell_type": "code",
   "execution_count": 4,
   "metadata": {
    "execution": {
     "iopub.execute_input": "2021-11-25T13:26:24.609312Z",
     "iopub.status.busy": "2021-11-25T13:26:24.609312Z",
     "iopub.status.idle": "2021-11-25T13:26:24.649683Z",
     "shell.execute_reply": "2021-11-25T13:26:24.648678Z",
     "shell.execute_reply.started": "2021-11-25T13:26:24.609312Z"
    }
   },
   "outputs": [],
   "source": [
    "# randomly choose 80% train, 10% validation, 10% test set\n",
    "np.random.seed(0) # make reults reproducible\n",
    "index = np.random.choice([0,1,2], size=n//2, p=[0.8,0.1,0.1]) # sample random groups of indexes\n",
    "\n",
    "x_real_smalltrain = x_real[index==0]\n",
    "x_real_val = x_real[index==1]\n",
    "x_real_test = x_real[index==2]\n",
    "\n",
    "x_fake_smalltrain = x_fake[index==0]\n",
    "x_fake_val = x_fake[index==1]\n",
    "x_fake_test = x_fake[index==2]\n",
    "\n",
    "# create a full train test (that contains validation data) for final model training before test part\n",
    "x_real_train = x_real[index!=2]\n",
    "x_fake_train = x_fake[index!=2]"
   ]
  },
  {
   "cell_type": "markdown",
   "metadata": {},
   "source": [
    "## Exploratory analysis\n",
    "In which way people are faking?\n",
    "Let's plot some example of the true vs the fake responses of the same subject!"
   ]
  },
  {
   "cell_type": "code",
   "execution_count": 5,
   "metadata": {
    "execution": {
     "iopub.execute_input": "2021-11-25T13:35:20.538403Z",
     "iopub.status.busy": "2021-11-25T13:35:20.537405Z",
     "iopub.status.idle": "2021-11-25T13:35:20.557868Z",
     "shell.execute_reply": "2021-11-25T13:35:20.556869Z",
     "shell.execute_reply.started": "2021-11-25T13:35:20.537405Z"
    },
    "tags": []
   },
   "outputs": [
    {
     "data": {
      "image/png": "[encoded data removed]",
      "text/plain": [
       "<Figure size 1440x936 with 9 Axes>"
      ]
     },
     "metadata": {
      "needs_background": "light"
     },
     "output_type": "display_data"
    }
   ],
   "source": [
    "fig, ax = plt.subplots(3,3, figsize=(20, 13))\n",
    "\n",
    "for i in range(9):\n",
    "\n",
    "    row = int(i/3)\n",
    "    col = i % 3\n",
    "\n",
    "    labels = list(data.columns[:-1])\n",
    "\n",
    "    honest = list(data.iloc[i,:-1])\n",
    "    lier = list(data.iloc[n//2 + i,:-1])\n",
    "\n",
    "    x = np.arange(len(labels))  \n",
    "    width = 0.35  \n",
    "\n",
    "    rects1 = ax[row, col].bar(x - width/2, honest, width, label='Honest')\n",
    "    rects2 = ax[row, col].bar(x + width/2, lier, width, label='Dishonest')\n",
    "\n",
    "    # Add some text for labels, title and custom x-axis tick labels, etc.\n",
    "    ax[row, col].set_title(str(i+1) + \"-ith subject\")\n",
    "    ax[row, col].set_ylabel('Responses')\n",
    "    ax[row, col].set_xlabel('Questions')\n",
    "    ax[row, col].set_xticks(x)\n",
    "    ax[row, col].set_xticklabels(labels, rotation=45)\n",
    "    ax[row, col].legend(bbox_to_anchor=(0,0), loc=\"lower left\")\n",
    "    ax[row, col].set_ylim([0,5.5])\n",
    "\n",
    "    def autolabel(rects):\n",
    "        \"\"\"Attach a text label above each bar, displaying its height.\"\"\"\n",
    "        for rect in rects:\n",
    "            height = rect.get_height()\n",
    "            ax[row, col].annotate('{}'.format(height),\n",
    "                        xy=(rect.get_x() + rect.get_width() / 2, height),\n",
    "                        xytext=(0, 3),  # 3 points vertical offset\n",
    "                        textcoords=\"offset points\",\n",
    "                        ha='center', va='bottom')\n",
    "\n",
    "\n",
    "    autolabel(rects1)\n",
    "    autolabel(rects2)\n",
    "\n",
    "fig.tight_layout()\n",
    "\n",
    "plt.show()"
   ]
  },
  {
   "cell_type": "markdown",
   "metadata": {},
   "source": [
    "What the different questions mean? (For this reason we decided to call this project *\"5 dimensions of Human Personality\"*)\n",
    "- EX = Extroversion scale\n",
    "- A = Agreeableness scale\n",
    "- C = Consciousness scale\n",
    "- ES = Emotional stability scale \n",
    "- O = Openness scale\n",
    "\n",
    "Now let's see the mean of the differences among all subjects!"
   ]
  },
  {
   "cell_type": "code",
   "execution_count": 6,
   "metadata": {
    "execution": {
     "iopub.execute_input": "2021-11-25T13:34:47.176893Z",
     "iopub.status.busy": "2021-11-25T13:34:47.176893Z",
     "iopub.status.idle": "2021-11-25T13:34:47.480210Z",
     "shell.execute_reply": "2021-11-25T13:34:47.479245Z",
     "shell.execute_reply.started": "2021-11-25T13:34:47.176893Z"
    },
    "tags": []
   },
   "outputs": [
    {
     "data": {
      "image/png": "[encoded data removed]",
      "text/plain": [
       "<Figure size 720x432 with 1 Axes>"
      ]
     },
     "metadata": {
      "needs_background": "light"
     },
     "output_type": "display_data"
    }
   ],
   "source": [
    "fig, ax = plt.subplots(1,1, figsize=(10, 6))\n",
    "\n",
    "labels = list(data.columns[:-1])\n",
    "\n",
    "honest = list(x_real.mean(0).round(2))\n",
    "lier = list(x_fake.mean(0).round(2))\n",
    "\n",
    "x = np.arange(len(labels))  \n",
    "width = 0.35  \n",
    "\n",
    "rects1 = ax.bar(x - width/2, honest, width, label='Honest')\n",
    "rects2 = ax.bar(x + width/2, lier, width, label='Dishonest')\n",
    "\n",
    "# Add some text for labels, title and custom x-axis tick labels, etc.\n",
    "ax.set_title(\"Mean responses\")\n",
    "ax.set_ylabel('Responses')\n",
    "ax.set_xlabel('Questions')\n",
    "ax.set_xticks(x)\n",
    "ax.set_xticklabels(labels, rotation=45)\n",
    "ax.legend(bbox_to_anchor=(1,1), loc=\"upper right\")\n",
    "ax.set_ylim([0,5.5])\n",
    "\n",
    "def autolabel(rects):\n",
    "    \"\"\"Attach a text label above each bar in *rects*, displaying its height.\"\"\"\n",
    "    for rect in rects:\n",
    "        height = rect.get_height()\n",
    "        ax.annotate('{}'.format(height),\n",
    "                    xy=(rect.get_x() + rect.get_width() / 2, height),\n",
    "                    xytext=(0, 3),  # 3 points vertical offset\n",
    "                    textcoords=\"offset points\",\n",
    "                    ha='center', va='bottom')\n",
    "\n",
    "\n",
    "autolabel(rects1)\n",
    "autolabel(rects2)\n",
    "\n",
    "fig.tight_layout()\n",
    "\n",
    "plt.show()"
   ]
  },
  {
   "cell_type": "markdown",
   "metadata": {},
   "source": [
    "Looking deeper into questions we can make some hypotesis on the way how people are faking responses\n",
    "\n",
    "I see myself as someone who ...\n",
    "- EX\n",
    "    - is outgoing, sociable (extroversion);\n",
    "    - is reserved (extroversion reversed);\n",
    "- A\n",
    "    - tends to find fault with others (agreeableness, reversed);    \n",
    "    - is generally trusting (agreeableness);\n",
    "- C\n",
    "    - tends to be lazy (consciousness, reversed)\n",
    "    - does a thorough job (consciousness)\n",
    "- ES\n",
    "    - gets nervous easily (emotional stability, reversed);\n",
    "    - is relaxed, handles stress well (emotional stability);\n",
    "- O\n",
    "    - has an active imagination (openness);\n",
    "    - has few artistic interests (openness, reversed)."
   ]
  },
  {
   "cell_type": "markdown",
   "metadata": {},
   "source": [
    "## Classification of fake questionnaires\n",
    "In this modelling part of the project we try to find faked questionnaires looking at responses, we'll use an interpretable model such as a **sparse** version of **regularized logistic regression**. In this way we can get insights about what are the responses that more discriminates between Honest and Dishonest. "
   ]
  },
  {
   "cell_type": "code",
   "execution_count": 7,
   "metadata": {},
   "outputs": [],
   "source": [
    "# create target and explanatory variables\n",
    "y = np.array([1 if c == \"D\" else 0 for c in data[\"CONDITION\"]]) # create response array\n",
    "X = data.iloc[:,:-1].copy() # make a copy of dataset removing last column"
   ]
  },
  {
   "cell_type": "code",
   "execution_count": 8,
   "metadata": {},
   "outputs": [],
   "source": [
    "# split train and test data for good evaluation of the model, test size 10% of total 442 samples\n",
    "from sklearn.model_selection import train_test_split\n",
    "\n",
    "X_train, X_test, y_train, y_test = train_test_split(X, y, test_size=0.1, random_state=42)"
   ]
  },
  {
   "cell_type": "code",
   "execution_count": 9,
   "metadata": {},
   "outputs": [],
   "source": [
    "# fit logistic regression with est regularization parameters on train set\n",
    "from sklearn.linear_model import LogisticRegression\n",
    "\n",
    "LR = LogisticRegression(random_state=124, verbose=False, penalty=\"l1\", solver=\"saga\", max_iter=3000, C = 0.1)\n",
    "_ = LR.fit(X_train, y_train)"
   ]
  },
  {
   "cell_type": "code",
   "execution_count": 10,
   "metadata": {},
   "outputs": [
    {
     "name": "stdout",
     "output_type": "stream",
     "text": [
      "Accuracy of regularized logistic regression: 0.91\n",
      "There were 4 errors on 45 predictions\n"
     ]
    }
   ],
   "source": [
    "# make predictions and calculate accuracy score of classification\n",
    "from sklearn.metrics import accuracy_score\n",
    "\n",
    "y_hat = LR.predict(X_test)\n",
    "print(f\"Accuracy of regularized logistic regression: {accuracy_score(y_hat, y_test).round(2)}\" ) \n",
    "print(f\"There were {sum(y_hat != y_test)} errors on {len(y_test)} predictions\")\n"
   ]
  },
  {
   "cell_type": "markdown",
   "metadata": {},
   "source": [
    "### Results exploration\n",
    "The high accuracy ensures that the model behaviour is good for our pourpuses, but it's not the only thing we care about. In fact we need to inspect what are the most faked responses in order to appear on a better light fot the **role in Humanitarian Organization**.\n",
    "\n",
    "The **following plot** helps us to understand what are the most faked questions and how the model coefficients are significative.\n"
   ]
  },
  {
   "cell_type": "code",
   "execution_count": 11,
   "metadata": {},
   "outputs": [
    {
     "data": {
      "image/png": "[encoded data removed]",
      "text/plain": [
       "<Figure size 576x360 with 1 Axes>"
      ]
     },
     "metadata": {
      "needs_background": "light"
     },
     "output_type": "display_data"
    }
   ],
   "source": [
    "fig, ax = plt.subplots(figsize=(8, 5))\n",
    "\n",
    "coef_df = pd.DataFrame({\"varname\" : list(data.columns)[:-1],\n",
    "                        \"coef\" : LR.coef_.round(2)[0]})\n",
    "\n",
    "coef_df.plot(x='varname', y='coef', kind='bar', \n",
    "             ax=ax, color='none', legend=False)\n",
    "ax.set_xlabel('Questions')\n",
    "ax.set_ylabel('Coefficients')\n",
    "ax.set_title(\"Question importance\")\n",
    "ax.axhline(y=0, linestyle='--', color='gray', linewidth=2)\n",
    "\n",
    "ax.bar(x=np.arange(coef_df.shape[0]), width=0.05,\n",
    "           height=coef_df['coef'], color=[\"tab:blue\" if c < 0 else \"tab:green\" if c == 0 else \"tab:orange\" for c in coef_df['coef']])\n",
    "\n",
    "ax.xaxis.set_ticks_position('none')\n",
    "_ = ax.set_xticklabels(list(data.columns)[:-1], \n",
    "                       rotation=45, fontsize=12)\n",
    "\n"
   ]
  },
  {
   "cell_type": "markdown",
   "metadata": {},
   "source": [
    "As we can see the model does not watch EX (Extrovertion) and O (Opensess) for discriminating between honests and liers. \n",
    "\n",
    "C and ES seem to be the questions where the liers tend to fake more. A is also faked, in particular the \"*tends to find fault with others*\" question."
   ]
  },
  {
   "cell_type": "markdown",
   "metadata": {},
   "source": [
    "### Wath are the wrong predictions?\n",
    "We can plot them for a better focus on why the model classificated thos questionnaires wrong. "
   ]
  },
  {
   "cell_type": "code",
   "execution_count": 12,
   "metadata": {},
   "outputs": [
    {
     "name": "stdout",
     "output_type": "stream",
     "text": [
      "Misclassifications:\n"
     ]
    },
    {
     "data": {
      "text/html": [
       "<div>\n",
       "<style scoped>\n",
       "    .dataframe tbody tr th:only-of-type {\n",
       "        vertical-align: middle;\n",
       "    }\n",
       "\n",
       "    .dataframe tbody tr th {\n",
       "        vertical-align: top;\n",
       "    }\n",
       "\n",
       "    .dataframe thead th {\n",
       "        text-align: right;\n",
       "    }\n",
       "</style>\n",
       "<table border=\"1\" class=\"dataframe\">\n",
       "  <thead>\n",
       "    <tr style=\"text-align: right;\">\n",
       "      <th></th>\n",
       "      <th>EX1G</th>\n",
       "      <th>EX2G</th>\n",
       "      <th>A1G</th>\n",
       "      <th>A2G</th>\n",
       "      <th>C1G</th>\n",
       "      <th>C2G</th>\n",
       "      <th>ES1G</th>\n",
       "      <th>ES2G</th>\n",
       "      <th>O1G</th>\n",
       "      <th>O2G</th>\n",
       "      <th>CONDITION</th>\n",
       "      <th>Prediction</th>\n",
       "    </tr>\n",
       "  </thead>\n",
       "  <tbody>\n",
       "    <tr>\n",
       "      <th>116</th>\n",
       "      <td>5</td>\n",
       "      <td>2</td>\n",
       "      <td>2</td>\n",
       "      <td>4</td>\n",
       "      <td>5</td>\n",
       "      <td>5</td>\n",
       "      <td>5</td>\n",
       "      <td>4</td>\n",
       "      <td>3</td>\n",
       "      <td>2</td>\n",
       "      <td>H</td>\n",
       "      <td>D</td>\n",
       "    </tr>\n",
       "    <tr>\n",
       "      <th>79</th>\n",
       "      <td>5</td>\n",
       "      <td>2</td>\n",
       "      <td>4</td>\n",
       "      <td>3</td>\n",
       "      <td>5</td>\n",
       "      <td>4</td>\n",
       "      <td>3</td>\n",
       "      <td>3</td>\n",
       "      <td>2</td>\n",
       "      <td>3</td>\n",
       "      <td>H</td>\n",
       "      <td>D</td>\n",
       "    </tr>\n",
       "    <tr>\n",
       "      <th>75</th>\n",
       "      <td>4</td>\n",
       "      <td>1</td>\n",
       "      <td>5</td>\n",
       "      <td>3</td>\n",
       "      <td>2</td>\n",
       "      <td>5</td>\n",
       "      <td>5</td>\n",
       "      <td>4</td>\n",
       "      <td>5</td>\n",
       "      <td>3</td>\n",
       "      <td>H</td>\n",
       "      <td>D</td>\n",
       "    </tr>\n",
       "    <tr>\n",
       "      <th>199</th>\n",
       "      <td>5</td>\n",
       "      <td>1</td>\n",
       "      <td>4</td>\n",
       "      <td>5</td>\n",
       "      <td>5</td>\n",
       "      <td>5</td>\n",
       "      <td>5</td>\n",
       "      <td>5</td>\n",
       "      <td>5</td>\n",
       "      <td>5</td>\n",
       "      <td>H</td>\n",
       "      <td>D</td>\n",
       "    </tr>\n",
       "  </tbody>\n",
       "</table>\n",
       "</div>"
      ],
      "text/plain": [
       "     EX1G  EX2G  A1G  A2G  C1G  C2G  ES1G  ES2G  O1G  O2G CONDITION Prediction\n",
       "116     5     2    2    4    5    5     5     4    3    2         H          D\n",
       "79      5     2    4    3    5    4     3     3    2    3         H          D\n",
       "75      4     1    5    3    2    5     5     4    5    3         H          D\n",
       "199     5     1    4    5    5    5     5     5    5    5         H          D"
      ]
     },
     "execution_count": 12,
     "metadata": {},
     "output_type": "execute_result"
    }
   ],
   "source": [
    "# print misclassified examples\n",
    "\n",
    "print(\"Misclassifications:\")\n",
    "errors = X_test.join(data[\"CONDITION\"]).join(pd.Series([\"D\" if c == \"H\" else \"H\" for c in data[\"CONDITION\"]], name=\"Prediction\")).iloc[y_hat != y_test,:]\n",
    "errors"
   ]
  },
  {
   "cell_type": "markdown",
   "metadata": {},
   "source": [
    "### Comparison between misclassifications and typical behavior"
   ]
  },
  {
   "cell_type": "code",
   "execution_count": 13,
   "metadata": {},
   "outputs": [
    {
     "name": "stderr",
     "output_type": "stream",
     "text": [
      "/opt/homebrew/Caskroom/miniforge/base/envs/tensorflow/lib/python3.9/site-packages/sklearn/base.py:445: UserWarning: X does not have valid feature names, but LogisticRegression was fitted with feature names\n",
      "  warnings.warn(\n",
      "/opt/homebrew/Caskroom/miniforge/base/envs/tensorflow/lib/python3.9/site-packages/sklearn/base.py:445: UserWarning: X does not have valid feature names, but LogisticRegression was fitted with feature names\n",
      "  warnings.warn(\n",
      "/opt/homebrew/Caskroom/miniforge/base/envs/tensorflow/lib/python3.9/site-packages/sklearn/base.py:445: UserWarning: X does not have valid feature names, but LogisticRegression was fitted with feature names\n",
      "  warnings.warn(\n",
      "/opt/homebrew/Caskroom/miniforge/base/envs/tensorflow/lib/python3.9/site-packages/sklearn/base.py:445: UserWarning: X does not have valid feature names, but LogisticRegression was fitted with feature names\n",
      "  warnings.warn(\n"
     ]
    },
    {
     "data": {
      "image/png": "[encoded data removed]",
      "text/plain": [
       "<Figure size 1440x936 with 4 Axes>"
      ]
     },
     "metadata": {
      "needs_background": "light"
     },
     "output_type": "display_data"
    }
   ],
   "source": [
    "fig, ax = plt.subplots(2, 2, figsize=(20, 13))\n",
    "\n",
    "for i in range(4):\n",
    "\n",
    "    row = int(i/2)\n",
    "    col = i % 2\n",
    "\n",
    "    labels = list(data.columns[:-1])\n",
    "\n",
    "    honest = list(x_real.mean(0).round(2))\n",
    "    errs = list(errors.iloc[i, :-2])\n",
    "\n",
    "    x = np.arange(len(labels))  \n",
    "    width = 0.35  \n",
    "\n",
    "    rects1 = ax[row, col].bar(x - width/2, honest, width, label='Typical honest behavior')\n",
    "    rects2 = ax[row, col].bar(x + width/2, errs, width, label='Misclassified subject behavior')\n",
    "\n",
    "    # Add some text for labels, title and custom x-axis tick labels, etc.\n",
    "    ax[row, col].set_title(str(i+1) + \"-ith misclassification, predicted probability of being lier: \" + \n",
    "                           str(LR.predict_proba(np.array(errs).reshape((1,-1))).round(2)[0,1])  )\n",
    "    ax[row, col].set_ylabel('Responses')\n",
    "    ax[row, col].set_xlabel('Questions')\n",
    "    ax[row, col].set_xticks(x)\n",
    "    ax[row, col].set_xticklabels(labels, rotation=45)\n",
    "    ax[row, col].legend(bbox_to_anchor=(0,0), loc=\"lower left\")\n",
    "    ax[row, col].set_ylim([0,5.5])\n",
    "\n",
    "    def autolabel(rects):\n",
    "        \"\"\"Attach a text label above each bar in *rects*, displaying its height.\"\"\"\n",
    "        for rect in rects:\n",
    "            height = rect.get_height()\n",
    "            ax[row, col].annotate('{}'.format(height),\n",
    "                        xy=(rect.get_x() + rect.get_width() / 2, height),\n",
    "                        xytext=(0, 3),  # 3 points vertical offset\n",
    "                        textcoords=\"offset points\",\n",
    "                        ha='center', va='bottom')\n",
    "\n",
    "\n",
    "    autolabel(rects1)\n",
    "    autolabel(rects2)\n",
    "\n",
    "fig.tight_layout()\n",
    "\n",
    "plt.show()"
   ]
  },
  {
   "cell_type": "markdown",
   "metadata": {},
   "source": [
    "The model is correcly spotting the liers, but in few examples it classifies honest people, with non-typical behavior, as liers.\n",
    "\n",
    "We notice that all misclassified examples are Honest questionnaires that were classified Dishonest. Maybe because of the fact that people responding to the questionnaire in first time didn't know that, in a second time, they were forced to fake good the questionnaire and thay already gave extremely high responses."
   ]
  },
  {
   "cell_type": "markdown",
   "metadata": {},
   "source": [
    "## Adjust faked questionnaires to honest\n",
    "\n",
    "We will compare different approaches for infering the honest responses given a faked questionnaire:\n",
    "- Naive approach (baseline)\n",
    "- Denoising autoencoder\n",
    "- Tree Based Regression\n",
    "- ElasticNet Regression"
   ]
  },
  {
   "cell_type": "markdown",
   "metadata": {},
   "source": [
    "### Naive approach\n",
    "\n",
    "All the proposed method should outperform the trivial strategy of subtracting to each subject faked response the average of the difference, across all subjects, among faked and honest response."
   ]
  },
  {
   "cell_type": "code",
   "execution_count": 14,
   "metadata": {},
   "outputs": [
    {
     "name": "stdout",
     "output_type": "stream",
     "text": [
      "Naive approach: \n",
      " MSE metric: 1.286 \n",
      " MAE metric: 0.845\n"
     ]
    }
   ],
   "source": [
    "# calculate the mean of the differences between faked and real response\n",
    "mean_train = (x_fake_train.to_numpy() - x_real_train.to_numpy()).mean(axis=0)\n",
    "\n",
    "# predict the real Test Set response subtractin the mean from the fake responses\n",
    "x_real_test_predicted = x_fake_test.to_numpy() - mean_train\n",
    "\n",
    "# calculate the MSE on Test Set\n",
    "test_mse = ((x_real_test_predicted - x_real_test.to_numpy()) **2).mean()\n",
    "test_mae = (abs(x_real_test_predicted - x_real_test.to_numpy())).mean()\n",
    "print(f\"Naive approach: \\n MSE metric: {test_mse.round(3)} \\n MAE metric: {test_mae.round(3)}\")"
   ]
  },
  {
   "cell_type": "markdown",
   "metadata": {},
   "source": [
    "With this **basic approach**, that we'll usa as a baseline, we have a Mean Absolute Error of 0.84. \n",
    "This means that we are able to predict Honest responses with a mean error of 0.84 points for each response. "
   ]
  },
  {
   "cell_type": "markdown",
   "metadata": {},
   "source": [
    "### Denoising autoencoder"
   ]
  },
  {
   "cell_type": "code",
   "execution_count": 102,
   "metadata": {},
   "outputs": [],
   "source": [
    "dim_1 = 10\n",
    "dim_2 = 7\n",
    "dim_3 = 4\n",
    "\n",
    "# the imput shape vector is composed by the 10 questions\n",
    "input_vector = tf.keras.layers.Input(shape=(10,))\n",
    "\n",
    "# define the encoder\n",
    "hidden_1 = tf.keras.layers.Dense(dim_1, activation='sigmoid')(input_vector)\n",
    "hidden_2 = tf.keras.layers.Dense(dim_2, activation='sigmoid')(hidden_1)\n",
    "encoded = tf.keras.layers.Dense(dim_3, activation='sigmoid')(hidden_2)\n",
    "\n",
    "# ...and the decoder...\n",
    "hidden_3 = tf.keras.layers.Dense(dim_2, activation='sigmoid')(encoded)\n",
    "decoded = tf.keras.layers.Dense(dim_1, activation='linear')(hidden_3)\n",
    "\n",
    "# and finally the autoencoder\n",
    "autoencoder = tf.keras.models.Model(inputs=input_vector, outputs=decoded)\n",
    "opt = tf.keras.optimizers.Adam(learning_rate=0.001)\n",
    "autoencoder.compile(optimizer=opt, loss='mse')"
   ]
  },
  {
   "cell_type": "code",
   "execution_count": 103,
   "metadata": {},
   "outputs": [
    {
     "name": "stdout",
     "output_type": "stream",
     "text": [
      "Model: \"model_19\"\n",
      "_________________________________________________________________\n",
      "Layer (type)                 Output Shape              Param #   \n",
      "=================================================================\n",
      "input_20 (InputLayer)        [(None, 10)]              0         \n",
      "_________________________________________________________________\n",
      "dense_94 (Dense)             (None, 10)                110       \n",
      "_________________________________________________________________\n",
      "dense_95 (Dense)             (None, 7)                 77        \n",
      "_________________________________________________________________\n",
      "dense_96 (Dense)             (None, 4)                 32        \n",
      "_________________________________________________________________\n",
      "dense_97 (Dense)             (None, 7)                 35        \n",
      "_________________________________________________________________\n",
      "dense_98 (Dense)             (None, 10)                80        \n",
      "=================================================================\n",
      "Total params: 334\n",
      "Trainable params: 334\n",
      "Non-trainable params: 0\n",
      "_________________________________________________________________\n"
     ]
    }
   ],
   "source": [
    "# show autoencoder structure\n",
    "autoencoder.summary()"
   ]
  },
  {
   "cell_type": "code",
   "execution_count": 104,
   "metadata": {},
   "outputs": [
    {
     "name": "stderr",
     "output_type": "stream",
     "text": [
      "2021-12-08 12:36:33.074790: I tensorflow/core/grappler/optimizers/custom_graph_optimizer_registry.cc:112] Plugin optimizer for device_type GPU is enabled.\n",
      "2021-12-08 12:36:33.302697: I tensorflow/core/grappler/optimizers/custom_graph_optimizer_registry.cc:112] Plugin optimizer for device_type GPU is enabled.\n"
     ]
    }
   ],
   "source": [
    "# fit the denoising autoencoder\n",
    "history = autoencoder.fit(x_fake_smalltrain, x_real_smalltrain, epochs=150, shuffle=True, validation_data=(x_fake_val, x_real_val),  verbose = False)"
   ]
  },
  {
   "cell_type": "code",
   "execution_count": 105,
   "metadata": {},
   "outputs": [
    {
     "data": {
      "image/png": "[encoded data removed]",
      "text/plain": [
       "<Figure size 720x432 with 1 Axes>"
      ]
     },
     "metadata": {
      "needs_background": "light"
     },
     "output_type": "display_data"
    }
   ],
   "source": [
    "# plot loss and metrics \n",
    "def plot_loss(history):\n",
    "  plt.figure(figsize=(10,6))\n",
    "  plt.plot(history.epoch,history.history['loss'])\n",
    "  plt.plot(history.epoch,history.history['val_loss'])\n",
    "  plt.legend([\"Loss\", \"Val_loss\"])\n",
    "  plt.title('loss')\n",
    "  \n",
    "plot_loss(history)"
   ]
  },
  {
   "cell_type": "code",
   "execution_count": 107,
   "metadata": {},
   "outputs": [
    {
     "name": "stdout",
     "output_type": "stream",
     "text": [
      "Denoising Autoencoder approach: \n",
      " MSE metric: 1.046 \n",
      " MAE metric: 0.835\n"
     ]
    }
   ],
   "source": [
    "# fit on entire train\n",
    "_ = autoencoder.fit(x_fake_train, x_real_train, epochs=150,  verbose = False)\n",
    "\n",
    "# make predictions\n",
    "x_real_test_predicted = autoencoder.predict(x_fake_test)\n",
    "\n",
    "# calculate the MSE and MAE on Test Set\n",
    "test_mse = ((x_real_test_predicted - x_real_test.to_numpy()) **2).mean()\n",
    "test_mae = (abs(x_real_test_predicted - x_real_test.to_numpy())).mean()\n",
    "print(f\"Denoising Autoencoder approach: \\n MSE metric: {test_mse.round(3)} \\n MAE metric: {test_mae.round(3)}\")"
   ]
  },
  {
   "cell_type": "markdown",
   "metadata": {},
   "source": [
    "With **Denoising Autoencoder** approach we lightly improve the baseline, from a MSE of 1.286 to 1.046\n",
    "### Tree based regression"
   ]
  },
  {
   "cell_type": "code",
   "execution_count": 224,
   "metadata": {},
   "outputs": [],
   "source": [
    "from sklearn.model_selection import cross_val_score, GridSearchCV, KFold, RandomizedSearchCV\n",
    "from scipy.stats import uniform, randint\n",
    "import xgboost as xgb\n",
    "\n",
    "def report_best_scores(results, n_top=3):\n",
    "    for i in range(1, n_top + 1):\n",
    "        candidates = np.flatnonzero(results['rank_test_score'] == i)\n",
    "        for candidate in candidates:\n",
    "            #print(\"Mean validation score: {0:.3f} (std: {1:.3f})\".format(\n",
    "            #      results['mean_test_score'][candidate],\n",
    "            #      results['std_test_score'][candidate]))\n",
    "            #print(\"Parameters: {0}\".format(results['params'][candidate]))\n",
    "            if i == 1:\n",
    "                #print(\"best model saved!\\n\")\n",
    "                return results['params'][candidate]\n",
    "                \n",
    "# select params to combine for finding optimal configuration\n",
    "params = {\n",
    "    \"colsample_bytree\": uniform(0.7, 0.3),\n",
    "    \"gamma\": uniform(0, 0.5),\n",
    "    \"learning_rate\": uniform(0.03, 0.3), # default 0.1 \n",
    "    \"max_depth\": randint(2, 6), # default 3\n",
    "    \"n_estimators\": randint(100, 150), # default 100\n",
    "    \"subsample\": uniform(0.6, 0.4)\n",
    "}"
   ]
  },
  {
   "cell_type": "code",
   "execution_count": 217,
   "metadata": {},
   "outputs": [
    {
     "name": "stdout",
     "output_type": "stream",
     "text": [
      "Start with question 1\n",
      "Start with question 2\n",
      "Start with question 3\n",
      "Start with question 4\n",
      "Start with question 5\n",
      "Start with question 6\n",
      "Start with question 7\n",
      "Start with question 8\n",
      "Start with question 9\n",
      "Start with question 10\n"
     ]
    }
   ],
   "source": [
    "X_train = x_fake_train\n",
    "\n",
    "X_test = x_fake_test\n",
    "y_test = x_real_test\n",
    "y_pred = pd.DataFrame(index=y_test.index)\n",
    "\n",
    "# we need to fit one model for each q (question)\n",
    "for q in range(p-1):\n",
    "\n",
    "    print(f\"Start with question {q+1}\")\n",
    "\n",
    "    # define the target question\n",
    "    y_train = x_real_train.iloc[:,q]\n",
    "\n",
    "    # define the model, random state for reproducibility\n",
    "    xgb_model = xgb.XGBRegressor(objective=\"reg:squarederror\", random_state=42)\n",
    "\n",
    "    # search for best configuration with cross validation\n",
    "    search = RandomizedSearchCV(xgb_model, param_distributions=params, random_state=42, n_iter=100, cv=3, verbose=0, n_jobs=1, return_train_score=True)\n",
    "    search.fit(X_train, y_train)\n",
    "\n",
    "    # best model found\n",
    "    best_model_parameters = report_best_scores(search.cv_results_, 1)\n",
    "\n",
    "    # fit best configuration model\n",
    "    xgb_model = xgb.XGBRegressor(objective=\"reg:squarederror\", random_state=42, **best_model_parameters)\n",
    "    xgb_model.fit(X_train, y_train)\n",
    "\n",
    "    # predict and append the question\n",
    "    y_column_pred = xgb_model.predict(X_test)\n",
    "    y_pred = y_pred.join(pd.Series(y_column_pred, index=y_test.index, name=y_test.columns[q]))\n",
    "    \n",
    "   "
   ]
  },
  {
   "cell_type": "code",
   "execution_count": 218,
   "metadata": {},
   "outputs": [
    {
     "name": "stdout",
     "output_type": "stream",
     "text": [
      "XGBoost regression approach: \n",
      " MSE metric: 1.053 \n",
      " MAE metric: 0.817\n"
     ]
    }
   ],
   "source": [
    "# calculate the MSE and MAE on Test Set\n",
    "test_mse = ((y_pred.to_numpy() - y_test.to_numpy()) **2).mean()\n",
    "test_mae = (abs(y_pred.to_numpy() - y_test.to_numpy())).mean()\n",
    "print(f\"XGBoost regression approach: \\n MSE metric: {test_mse.round(3)} \\n MAE metric: {test_mae.round(3)}\")"
   ]
  },
  {
   "cell_type": "markdown",
   "metadata": {},
   "source": [
    "With **Tree XGBRegressor** approach we lightly improve the Denoising Autoencoder approach"
   ]
  },
  {
   "cell_type": "markdown",
   "metadata": {},
   "source": [
    "### ElasticNet Regression"
   ]
  },
  {
   "cell_type": "code",
   "execution_count": 257,
   "metadata": {},
   "outputs": [],
   "source": [
    "from sklearn.linear_model import ElasticNet\n",
    "from sklearn.model_selection import GridSearchCV\n",
    "import warnings \n",
    "warnings.filterwarnings('ignore')\n",
    "\n",
    "# grid search to tune the parameters:\n",
    "parametersGrid = {\"max_iter\": [1,10,100,1000], \"alpha\": [0.001, 0.01, 0.1, 1],\"l1_ratio\": np.arange(0.0, 1.0, 0.1)}"
   ]
  },
  {
   "cell_type": "code",
   "execution_count": 258,
   "metadata": {},
   "outputs": [
    {
     "name": "stdout",
     "output_type": "stream",
     "text": [
      "Start with question 1\n",
      "Parameters: {'alpha': 0.1, 'l1_ratio': 0.5, 'max_iter': 10}\n",
      "Start with question 2\n",
      "Parameters: {'alpha': 0.1, 'l1_ratio': 0.30000000000000004, 'max_iter': 10}\n",
      "Start with question 3\n",
      "Parameters: {'alpha': 1, 'l1_ratio': 0.2, 'max_iter': 1}\n",
      "Start with question 4\n",
      "Parameters: {'alpha': 0.1, 'l1_ratio': 0.0, 'max_iter': 1}\n",
      "Start with question 5\n",
      "Parameters: {'alpha': 0.1, 'l1_ratio': 0.7000000000000001, 'max_iter': 1}\n",
      "Start with question 6\n",
      "Parameters: {'alpha': 1, 'l1_ratio': 0.2, 'max_iter': 1}\n",
      "Start with question 7\n",
      "Parameters: {'alpha': 0.1, 'l1_ratio': 0.7000000000000001, 'max_iter': 10}\n",
      "Start with question 8\n",
      "Parameters: {'alpha': 1, 'l1_ratio': 0.2, 'max_iter': 1}\n",
      "Start with question 9\n",
      "Parameters: {'alpha': 0.1, 'l1_ratio': 0.9, 'max_iter': 10}\n",
      "Start with question 10\n",
      "Parameters: {'alpha': 0.1, 'l1_ratio': 0.1, 'max_iter': 10}\n"
     ]
    }
   ],
   "source": [
    "y_pred = pd.DataFrame(index=y_test.index)\n",
    "\n",
    "# we need to fit one model for each q (question)\n",
    "for q in range(p-1):\n",
    "\n",
    "    print(f\"Start with question {q+1}\")\n",
    "\n",
    "    # define the target question\n",
    "    y_train = x_real_train.iloc[:,q]\n",
    "\n",
    "    # define the model, random state for reproducibility\n",
    "    eNet = ElasticNet(random_state=42)\n",
    "\n",
    "    # search for best configuration with cross validation\n",
    "    grid = GridSearchCV(eNet, parametersGrid, cv=5)\n",
    "    grid.fit(X_train, y_train)\n",
    "\n",
    "    # best model found\n",
    "    best_model_parameters = report_best_scores(grid.cv_results_, 1)\n",
    "\n",
    "    # fit best configuration model\n",
    "    eNet = ElasticNet(random_state=42, **best_model_parameters)\n",
    "    eNet.fit(X_train, y_train)\n",
    "\n",
    "    # predict and append the question\n",
    "    y_column_pred = eNet.predict(X_test)\n",
    "    y_pred = y_pred.join(pd.Series(y_column_pred, index=y_test.index, name=y_test.columns[q]))"
   ]
  },
  {
   "cell_type": "code",
   "execution_count": 260,
   "metadata": {},
   "outputs": [
    {
     "name": "stdout",
     "output_type": "stream",
     "text": [
      "ElasticNet regression approach: \n",
      " MSE metric: 1.054 \n",
      " MAE metric: 0.809\n"
     ]
    }
   ],
   "source": [
    "# calculate the MSE and MAE on Test Set\n",
    "test_mse = ((y_pred.to_numpy() - y_test.to_numpy()) **2).mean()\n",
    "test_mae = (abs(y_pred.to_numpy() - y_test.to_numpy())).mean()\n",
    "print(f\"ElasticNet regression approach: \\n MSE metric: {test_mse.round(3)} \\n MAE metric: {test_mae.round(3)}\")"
   ]
  },
  {
   "cell_type": "markdown",
   "metadata": {},
   "source": [
    "With **ElasticNet Regression** approach we lightly improve the Denoising Autoencoder approach"
   ]
  }
 ],
 "metadata": {
  "interpreter": {
   "hash": "9e49e9e5b94ffbcf92b38e6bbae369d81093e2039295ffe956729ef7e2f8d3e1"
  },
  "kernelspec": {
   "display_name": "Python 3",
   "language": "python",
   "name": "python3"
  },
  "language_info": {
   "codemirror_mode": {
    "name": "ipython",
    "version": 3
   },
   "file_extension": ".py",
   "mimetype": "text/x-python",
   "name": "python",
   "nbconvert_exporter": "python",
   "pygments_lexer": "ipython3",
   "version": "3.9.7"
  }
 },
 "nbformat": 4,
 "nbformat_minor": 4
}
